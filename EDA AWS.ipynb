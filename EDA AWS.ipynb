{
	"metadata": {
		"kernelspec": {
			"name": "glue_pyspark",
			"display_name": "Glue PySpark",
			"language": "python"
		},
		"language_info": {
			"name": "Python_Glue_Session",
			"mimetype": "text/x-python",
			"codemirror_mode": {
				"name": "python",
				"version": 3
			},
			"pygments_lexer": "python3",
			"file_extension": ".py"
		}
	},
	"nbformat_minor": 4,
	"nbformat": 4,
	"cells": [
		{
			"cell_type": "markdown",
			"source": "# EDA",
			"metadata": {
				"editable": true,
				"trusted": true
			}
		},
		{
			"cell_type": "markdown",
			"source": "####  Run this cell to set up and start your interactive session.\n",
			"metadata": {
				"editable": true,
				"trusted": true
			}
		},
		{
			"cell_type": "code",
			"source": "%idle_timeout 2880\n%glue_version 5.0\n%worker_type G.1X\n%number_of_workers 5\n\nimport sys\nfrom awsglue.transforms import *\nfrom awsglue.utils import getResolvedOptions\nfrom pyspark.context import SparkContext\nfrom awsglue.context import GlueContext\nfrom awsglue.job import Job\nfrom pyspark.sql.functions import month, to_date, col\n  \nsc = SparkContext.getOrCreate()\nglueContext = GlueContext(sc)\nspark = glueContext.spark_session\njob = Job(glueContext)",
			"metadata": {
				"trusted": true,
				"editable": true
			},
			"execution_count": 14,
			"outputs": [
				{
					"name": "stderr",
					"text": "You are already connected to a glueetl session 6065a663-d101-4a25-b138-3dc0dc030178.\n\nNo change will be made to the current session that is set as glueetl. The session configuration change will apply to newly created sessions.\n",
					"output_type": "stream"
				},
				{
					"name": "stdout",
					"text": "Current idle_timeout is 2880 minutes.\nidle_timeout has been set to 2880 minutes.\n",
					"output_type": "stream"
				},
				{
					"name": "stderr",
					"text": "You are already connected to a glueetl session 6065a663-d101-4a25-b138-3dc0dc030178.\n\nNo change will be made to the current session that is set as glueetl. The session configuration change will apply to newly created sessions.\n",
					"output_type": "stream"
				},
				{
					"name": "stdout",
					"text": "Setting Glue version to: 5.0\n",
					"output_type": "stream"
				},
				{
					"name": "stderr",
					"text": "You are already connected to a glueetl session 6065a663-d101-4a25-b138-3dc0dc030178.\n\nNo change will be made to the current session that is set as glueetl. The session configuration change will apply to newly created sessions.\n",
					"output_type": "stream"
				},
				{
					"name": "stdout",
					"text": "Previous worker type: G.1X\nSetting new worker type to: G.1X\n",
					"output_type": "stream"
				},
				{
					"name": "stderr",
					"text": "You are already connected to a glueetl session 6065a663-d101-4a25-b138-3dc0dc030178.\n\nNo change will be made to the current session that is set as glueetl. The session configuration change will apply to newly created sessions.\n",
					"output_type": "stream"
				},
				{
					"name": "stdout",
					"text": "Previous number of workers: 5\nSetting new number of workers to: 5\n\n",
					"output_type": "stream"
				}
			]
		},
		{
			"cell_type": "markdown",
			"source": "#### Example: Create a DynamicFrame from a table in the AWS Glue Data Catalog and display its schema\n",
			"metadata": {
				"editable": true,
				"trusted": true
			}
		},
		{
			"cell_type": "code",
			"source": "dyf = glueContext.create_dynamic_frame.from_catalog(database='proyecto1db', table_name='1')\ndyf.printSchema()",
			"metadata": {
				"trusted": true,
				"editable": true
			},
			"execution_count": 6,
			"outputs": [
				{
					"name": "stdout",
					"text": "root\n|-- armas_medios: string\n|-- departamento: string\n|-- municipio: string\n|-- fecha_hecho: string\n|-- GENERO: string\n|-- AGRUPA_EDAD_PERSONA: string\n|-- CANTIDAD: int\n|-- id: string\n",
					"output_type": "stream"
				}
			]
		},
		{
			"cell_type": "markdown",
			"source": "#### Example: Convert the DynamicFrame to a Spark DataFrame and display a sample of the data\n",
			"metadata": {
				"editable": true,
				"trusted": true
			}
		},
		{
			"cell_type": "code",
			"source": "df = dyf.toDF()\n# Reemplazamos los espacios en blanco y convertimos a minusculas\ndf = df.toDF(*[c.strip().replace(\" \", \"_\").lower() for c in df.columns])\ndf.createOrReplaceTempView(\"hurto\")\ndf.show()",
			"metadata": {
				"trusted": true,
				"editable": true
			},
			"execution_count": 9,
			"outputs": [
				{
					"name": "stdout",
					"text": "+-------------------+------------+--------------------+-----------+---------+-------------------+--------+--------------------+\n|       armas_medios|departamento|           municipio|fecha_hecho|   genero|agrupa_edad_persona|cantidad|                  id|\n+-------------------+------------+--------------------+-----------+---------+-------------------+--------+--------------------+\n|SIN EMPLEO DE ARMAS|   ATLANTICO|       Barranquilla | 20/02/2025| FEMENINO|            ADULTOS|       1|99338118-0a96-4d3...|\n|SIN EMPLEO DE ARMAS|CUNDINAMARCA|        Bogotá D.C. | 19/01/2025| FEMENINO|            ADULTOS|       1|99338118-0a96-4d3...|\n|SIN EMPLEO DE ARMAS|CUNDINAMARCA|        Bogotá D.C. | 19/01/2025| FEMENINO|            ADULTOS|       1|99338118-0a96-4d3...|\n|SIN EMPLEO DE ARMAS|CUNDINAMARCA|        Bogotá D.C. | 19/01/2025| FEMENINO|            ADULTOS|       1|99338118-0a96-4d3...|\n|SIN EMPLEO DE ARMAS|CUNDINAMARCA|        Bogotá D.C. | 19/01/2025| FEMENINO|            ADULTOS|       1|99338118-0a96-4d3...|\n|SIN EMPLEO DE ARMAS|   ANTIOQUIA|El Carmen de Viboral| 12/01/2025|MASCULINO|            ADULTOS|       1|99338118-0a96-4d3...|\n|SIN EMPLEO DE ARMAS|       CAUCA|            Popayán | 19/01/2025|MASCULINO|            ADULTOS|       1|99338118-0a96-4d3...|\n|SIN EMPLEO DE ARMAS|      TOLIMA|               Honda| 01/01/2025|MASCULINO|            ADULTOS|       1|99338118-0a96-4d3...|\n|SIN EMPLEO DE ARMAS|   ANTIOQUIA|            Cisneros| 05/01/2025| FEMENINO|            ADULTOS|       1|99338118-0a96-4d3...|\n|SIN EMPLEO DE ARMAS|        META|      Villavicencio | 08/02/2025| FEMENINO|            ADULTOS|       1|99338118-0a96-4d3...|\n|SIN EMPLEO DE ARMAS|      BOYACA|             Duitama| 13/01/2025| FEMENINO|            ADULTOS|       1|99338118-0a96-4d3...|\n|SIN EMPLEO DE ARMAS|      NARINO|              Pasto | 05/02/2025| FEMENINO|            ADULTOS|       1|99338118-0a96-4d3...|\n|SIN EMPLEO DE ARMAS|     BOLIVAR|          Cartagena | 08/01/2025| FEMENINO|            ADULTOS|       1|99338118-0a96-4d3...|\n|SIN EMPLEO DE ARMAS|    CASANARE|           Tauramena| 18/02/2025|MASCULINO|            ADULTOS|       1|99338118-0a96-4d3...|\n|SIN EMPLEO DE ARMAS|   MAGDALENA|        Santa Marta | 16/01/2025|MASCULINO|            ADULTOS|       1|99338118-0a96-4d3...|\n|SIN EMPLEO DE ARMAS|CUNDINAMARCA|        Bogotá D.C. | 20/01/2025| FEMENINO|            ADULTOS|       1|99338118-0a96-4d3...|\n|SIN EMPLEO DE ARMAS|CUNDINAMARCA|        Bogotá D.C. | 20/01/2025| FEMENINO|            ADULTOS|       1|99338118-0a96-4d3...|\n|SIN EMPLEO DE ARMAS|CUNDINAMARCA|        Bogotá D.C. | 20/01/2025| FEMENINO|            ADULTOS|       1|99338118-0a96-4d3...|\n|SIN EMPLEO DE ARMAS|CUNDINAMARCA|        Bogotá D.C. | 20/01/2025| FEMENINO|            ADULTOS|       1|99338118-0a96-4d3...|\n|SIN EMPLEO DE ARMAS|CUNDINAMARCA|        Bogotá D.C. | 20/01/2025| FEMENINO|            ADULTOS|       1|99338118-0a96-4d3...|\n+-------------------+------------+--------------------+-----------+---------+-------------------+--------+--------------------+\nonly showing top 20 rows\n",
					"output_type": "stream"
				}
			]
		},
		{
			"cell_type": "code",
			"source": "df.select(\"fecha_hecho\").show(10, truncate=False)\n\ndf = df.withColumn(\"fecha_hecho\", to_date(col(\"fecha_hecho\"), \"dd/MM/yyyy\"))\n\ndf.createOrReplaceTempView(\"hurto\")\n\n",
			"metadata": {
				"trusted": true,
				"tags": []
			},
			"execution_count": 16,
			"outputs": [
				{
					"name": "stdout",
					"text": "+-----------+\n|fecha_hecho|\n+-----------+\n|2025-02-20 |\n|2025-01-19 |\n|2025-01-19 |\n|2025-01-19 |\n|2025-01-19 |\n|2025-01-12 |\n|2025-01-19 |\n|2025-01-01 |\n|2025-01-05 |\n|2025-02-08 |\n+-----------+\nonly showing top 10 rows\n",
					"output_type": "stream"
				}
			]
		},
		{
			"cell_type": "code",
			"source": "resultado = spark.sql(\"\"\"\n    SELECT year(fecha_hecho)  AS anio,\n           month(fecha_hecho) AS mes,\n           COUNT(*)           AS casos\n    FROM hurto\n    GROUP BY anio, mes\n    ORDER BY anio, mes\n\"\"\")\n\nresultado.show()",
			"metadata": {
				"trusted": true,
				"tags": []
			},
			"execution_count": 17,
			"outputs": [
				{
					"name": "stdout",
					"text": "+----+---+-----+\n|anio|mes|casos|\n+----+---+-----+\n|2025|  1|20959|\n|2025|  2|20351|\n|2025|  3|21749|\n+----+---+-----+\n",
					"output_type": "stream"
				}
			]
		},
		{
			"cell_type": "code",
			"source": "resultado = spark.sql(\"\"\"\n    SELECT municipio, COUNT(*) AS casos\n    FROM hurto\n    GROUP BY municipio\n    ORDER BY casos DESC\n    LIMIT 10;\n\"\"\")\n\nresultado.show()",
			"metadata": {
				"trusted": true,
				"tags": []
			},
			"execution_count": 18,
			"outputs": [
				{
					"name": "stdout",
					"text": "+--------------+-----+\n|     municipio|casos|\n+--------------+-----+\n|  Bogotá D.C. |30955|\n|     Medellín | 4262|\n| Barranquilla | 2671|\n|    Cartagena | 1727|\n|        Pasto | 1419|\n|  Bucaramanga | 1306|\n|Villavicencio | 1232|\n|        Soacha| 1132|\n|  Santa Marta | 1055|\n|        Neiva | 1037|\n+--------------+-----+\n",
					"output_type": "stream"
				}
			]
		},
		{
			"cell_type": "code",
			"source": "resultado = spark.sql(\"\"\"\n    -- Serie mensual 2024-2025\n    SELECT date_format(fecha_hecho,'yyyy-MM') AS mes,\n           SUM(cantidad)                      AS casos\n    FROM hurto\n    GROUP BY mes\n    ORDER BY mes;\n\"\"\")\n\nresultado.show()",
			"metadata": {
				"trusted": true,
				"tags": []
			},
			"execution_count": 19,
			"outputs": [
				{
					"name": "stdout",
					"text": "+-------+-----+\n|    mes|casos|\n+-------+-----+\n|2025-01|20959|\n|2025-02|20351|\n|2025-03|21749|\n+-------+-----+\n",
					"output_type": "stream"
				}
			]
		},
		{
			"cell_type": "code",
			"source": "resultado = spark.sql(\"\"\"\n    -- Por departamento\n    WITH tmp AS (\n      SELECT year(fecha_hecho)  AS anio,\n             departamento,\n             COUNT(*)           AS casos\n      FROM hurto\n      GROUP BY anio, departamento\n    )\n    SELECT * FROM tmp\n    ORDER BY anio, casos DESC;\n\"\"\")\n\nresultado.show()",
			"metadata": {
				"trusted": true,
				"tags": []
			},
			"execution_count": 20,
			"outputs": [
				{
					"name": "stdout",
					"text": "+----+------------------+-----+\n|anio|      departamento|casos|\n+----+------------------+-----+\n|2025|      CUNDINAMARCA|34383|\n|2025|         ANTIOQUIA| 6340|\n|2025|         ATLANTICO| 3658|\n|2025|         SANTANDER| 2175|\n|2025|           BOLIVAR| 2085|\n|2025|            NARINO| 1928|\n|2025|              META| 1556|\n|2025|             HUILA| 1539|\n|2025|            TOLIMA| 1323|\n|2025|         MAGDALENA| 1312|\n|2025|             CAUCA| 1131|\n|2025|            BOYACA|  796|\n|2025|             CESAR|  783|\n|2025|NORTE DE SANTANDER|  762|\n|2025|         RISARALDA|  707|\n|2025|           CORDOBA|  523|\n|2025|           QUINDIO|  495|\n|2025|          CASANARE|  470|\n|2025|            CALDAS|  320|\n|2025|             SUCRE|  296|\n+----+------------------+-----+\nonly showing top 20 rows\n",
					"output_type": "stream"
				}
			]
		},
		{
			"cell_type": "code",
			"source": "# Creamos un pivot para ver la cantidad de casos por mes y por armas_medios\n# (armas_medios es una columna que tiene el tipo de arma o medio usado en el hurto)\npivot = (df.withColumn(\"mes\", month(\"fecha_hecho\"))\n           .groupBy(\"mes\")\n           .pivot(\"armas_medios\")\n           .count()\n           .orderBy(\"mes\"))\n\npivot.show(10, truncate=False)",
			"metadata": {
				"trusted": true,
				"tags": []
			},
			"execution_count": 22,
			"outputs": [
				{
					"name": "stdout",
					"text": "+---+---------------------------+-------------+------------+------------+-------------+------------+-------------------+\n|mes|ARMA BLANCA / CORTOPUNZANTE|ARMA DE FUEGO|CONTUNDENTES|ESCOPOLAMINA|LLAVE MAESTRA|NO REPORTADO|SIN EMPLEO DE ARMAS|\n+---+---------------------------+-------------+------------+------------+-------------+------------+-------------------+\n|1  |3219                       |3159         |588         |110         |3            |769         |13111              |\n|2  |3295                       |2657         |489         |129         |null         |762         |13019              |\n|3  |3502                       |2917         |445         |108         |4            |835         |13938              |\n+---+---------------------------+-------------+------------+------------+-------------+------------+-------------------+\n",
					"output_type": "stream"
				}
			]
		},
		{
			"cell_type": "code",
			"source": "pivot.write.mode(\"overwrite\").format(\"parquet\").save(\"s3://ds-trabajo1-parte2/refined/EDA/\")",
			"metadata": {
				"trusted": true,
				"tags": []
			},
			"execution_count": 23,
			"outputs": [
				{
					"name": "stdout",
					"text": "\n",
					"output_type": "stream"
				}
			]
		}
	]
}