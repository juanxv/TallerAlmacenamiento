{
 "cells": [
  {
   "cell_type": "markdown",
   "metadata": {
    "application/vnd.databricks.v1+cell": {
     "cellMetadata": {},
     "inputWidgets": {},
     "nuid": "8bb6baad-2946-4d22-9890-e146f4b1c754",
     "showTitle": false,
     "tableResultSettingsMap": {},
     "title": ""
    }
   },
   "source": [
    "# EDA (columnas, distribucion de datos, etc.)"
   ]
  },
  {
   "cell_type": "code",
   "execution_count": 0,
   "metadata": {
    "application/vnd.databricks.v1+cell": {
     "cellMetadata": {
      "byteLimit": 2048000,
      "rowLimit": 10000
     },
     "inputWidgets": {},
     "nuid": "f2dfd5ca-d7b4-4648-866f-68e421f17aa6",
     "showTitle": false,
     "tableResultSettingsMap": {},
     "title": ""
    }
   },
   "outputs": [],
   "source": [
    "from pyspark.sql.functions import month"
   ]
  },
  {
   "cell_type": "markdown",
   "metadata": {},
   "source": [
    "# Setup\n",
    "\n",
    "Leemos el archivo usando la libreria de pyspark, le indicamos el separador y vemos las columnas que contiene el dataset."
   ]
  },
  {
   "cell_type": "code",
   "execution_count": null,
   "metadata": {
    "application/vnd.databricks.v1+cell": {
     "cellMetadata": {
      "byteLimit": 2048000,
      "rowLimit": 10000
     },
     "inputWidgets": {},
     "nuid": "db9631f6-bb4a-42ca-8a3c-0d48af932331",
     "showTitle": false,
     "tableResultSettingsMap": {},
     "title": ""
    }
   },
   "outputs": [
    {
     "ename": "NameError",
     "evalue": "name 'spark' is not defined",
     "output_type": "error",
     "traceback": [
      "\u001b[1;31m---------------------------------------------------------------------------\u001b[0m",
      "\u001b[1;31mNameError\u001b[0m                                 Traceback (most recent call last)",
      "Cell \u001b[1;32mIn[2], line 3\u001b[0m\n\u001b[0;32m      1\u001b[0m file_location \u001b[38;5;241m=\u001b[39m \u001b[38;5;124m\"\u001b[39m\u001b[38;5;124m/FileStore/tables/Hurto_a_personas_3_csv.csv\u001b[39m\u001b[38;5;124m\"\u001b[39m\n\u001b[1;32m----> 3\u001b[0m df \u001b[38;5;241m=\u001b[39m (\u001b[43mspark\u001b[49m\u001b[38;5;241m.\u001b[39mread\u001b[38;5;241m.\u001b[39mformat(\u001b[38;5;124m\"\u001b[39m\u001b[38;5;124mcsv\u001b[39m\u001b[38;5;124m\"\u001b[39m)\n\u001b[0;32m      4\u001b[0m         \u001b[38;5;241m.\u001b[39moption(\u001b[38;5;124m\"\u001b[39m\u001b[38;5;124mheader\u001b[39m\u001b[38;5;124m\"\u001b[39m, \u001b[38;5;124m\"\u001b[39m\u001b[38;5;124mtrue\u001b[39m\u001b[38;5;124m\"\u001b[39m)       \n\u001b[0;32m      5\u001b[0m         \u001b[38;5;241m.\u001b[39moption(\u001b[38;5;124m\"\u001b[39m\u001b[38;5;124minferSchema\u001b[39m\u001b[38;5;124m\"\u001b[39m, \u001b[38;5;124m\"\u001b[39m\u001b[38;5;124mtrue\u001b[39m\u001b[38;5;124m\"\u001b[39m)  \n\u001b[0;32m      6\u001b[0m         \u001b[38;5;241m.\u001b[39moption(\u001b[38;5;124m\"\u001b[39m\u001b[38;5;124msep\u001b[39m\u001b[38;5;124m\"\u001b[39m, \u001b[38;5;124m\"\u001b[39m\u001b[38;5;124m;\u001b[39m\u001b[38;5;124m\"\u001b[39m)             \n\u001b[0;32m      7\u001b[0m         \u001b[38;5;241m.\u001b[39moption(\u001b[38;5;124m\"\u001b[39m\u001b[38;5;124mencoding\u001b[39m\u001b[38;5;124m\"\u001b[39m, \u001b[38;5;124m\"\u001b[39m\u001b[38;5;124mUTF-8\u001b[39m\u001b[38;5;124m\"\u001b[39m)    \n\u001b[0;32m      8\u001b[0m         \u001b[38;5;241m.\u001b[39mload(file_location))\n\u001b[0;32m     10\u001b[0m \u001b[38;5;28mprint\u001b[39m(df\u001b[38;5;241m.\u001b[39mcolumns)      \n\u001b[0;32m     11\u001b[0m display(df\u001b[38;5;241m.\u001b[39mlimit(\u001b[38;5;241m5\u001b[39m))\n",
      "\u001b[1;31mNameError\u001b[0m: name 'spark' is not defined"
     ]
    }
   ],
   "source": [
    "# Leemos librerias he importamos el archivo usando spark\n",
    "file_location = \"/FileStore/tables/Hurto_a_personas_3_csv.csv\"\n",
    "\n",
    "df = (spark.read.format(\"csv\")\n",
    "        .option(\"header\", \"true\")       \n",
    "        .option(\"inferSchema\", \"true\")  \n",
    "        .option(\"sep\", \";\")             \n",
    "        .option(\"encoding\", \"UTF-8\")    \n",
    "        .load(file_location))\n",
    "\n",
    "print(df.columns)      \n",
    "display(df.limit(5))"
   ]
  },
  {
   "cell_type": "code",
   "execution_count": 0,
   "metadata": {
    "application/vnd.databricks.v1+cell": {
     "cellMetadata": {
      "byteLimit": 2048000,
      "rowLimit": 10000
     },
     "inputWidgets": {},
     "nuid": "9bd9ccc8-3235-459b-86a7-16abcb6060c7",
     "showTitle": false,
     "tableResultSettingsMap": {},
     "title": ""
    }
   },
   "outputs": [],
   "source": [
    "# Reemplazamos los espacios en blanco y convertimos a minusculas\n",
    "df = df.toDF(*[c.strip().replace(\" \", \"_\").lower() for c in df.columns])\n",
    "df.createOrReplaceTempView(\"hurto\")\n"
   ]
  },
  {
   "cell_type": "code",
   "execution_count": 0,
   "metadata": {
    "application/vnd.databricks.v1+cell": {
     "cellMetadata": {
      "byteLimit": 2048000,
      "implicitDf": true,
      "rowLimit": 10000
     },
     "inputWidgets": {},
     "nuid": "f88e8407-705e-4211-b64d-322d0ed73798",
     "showTitle": false,
     "tableResultSettingsMap": {},
     "title": ""
    }
   },
   "outputs": [
    {
     "data": {
      "text/html": [
       "<style scoped>\n",
       "  .table-result-container {\n",
       "    max-height: 300px;\n",
       "    overflow: auto;\n",
       "  }\n",
       "  table, th, td {\n",
       "    border: 1px solid black;\n",
       "    border-collapse: collapse;\n",
       "  }\n",
       "  th, td {\n",
       "    padding: 5px;\n",
       "  }\n",
       "  th {\n",
       "    text-align: left;\n",
       "  }\n",
       "</style><div class='table-result-container'><table class='table-result'><thead style='background-color: white'><tr><th>anio</th><th>mes</th><th>casos</th></tr></thead><tbody><tr><td>2025</td><td>1</td><td>22999</td></tr><tr><td>2025</td><td>2</td><td>22200</td></tr><tr><td>2025</td><td>3</td><td>23844</td></tr></tbody></table></div>"
      ]
     },
     "metadata": {
      "application/vnd.databricks.v1+output": {
       "addedWidgets": {},
       "aggData": [],
       "aggError": "",
       "aggOverflow": false,
       "aggSchema": [],
       "aggSeriesLimitReached": false,
       "aggType": "",
       "arguments": {},
       "columnCustomDisplayInfos": {},
       "data": [
        [
         2025,
         1,
         22999
        ],
        [
         2025,
         2,
         22200
        ],
        [
         2025,
         3,
         23844
        ]
       ],
       "datasetInfos": [],
       "dbfsResultPath": null,
       "isJsonSchema": true,
       "metadata": {
        "dataframeName": "_sqldf",
        "executionCount": 11
       },
       "overflow": false,
       "plotOptions": {
        "customPlotOptions": {},
        "displayType": "table",
        "pivotAggregation": null,
        "pivotColumns": null,
        "xColumns": null,
        "yColumns": null
       },
       "removedWidgets": [],
       "schema": [
        {
         "metadata": "{}",
         "name": "anio",
         "type": "\"integer\""
        },
        {
         "metadata": "{}",
         "name": "mes",
         "type": "\"integer\""
        },
        {
         "metadata": "{}",
         "name": "casos",
         "type": "\"long\""
        }
       ],
       "type": "table"
      }
     },
     "output_type": "display_data"
    }
   ],
   "source": [
    "# Cambiamos los nombres de las columnas para que sean más amigables\n",
    "%sql\n",
    "SELECT year(fecha_hecho)  AS anio,\n",
    "       month(fecha_hecho) AS mes,\n",
    "       COUNT(*)           AS casos\n",
    "FROM hurto\n",
    "GROUP BY anio, mes\n",
    "ORDER BY anio, mes;"
   ]
  },
  {
   "cell_type": "code",
   "execution_count": 0,
   "metadata": {
    "application/vnd.databricks.v1+cell": {
     "cellMetadata": {
      "byteLimit": 2048000,
      "implicitDf": true,
      "rowLimit": 10000
     },
     "inputWidgets": {},
     "nuid": "2ea8ae5e-ebbd-495b-8ff9-44d873a0cc6b",
     "showTitle": false,
     "tableResultSettingsMap": {},
     "title": ""
    }
   },
   "outputs": [
    {
     "data": {
      "text/html": [
       "<style scoped>\n",
       "  .table-result-container {\n",
       "    max-height: 300px;\n",
       "    overflow: auto;\n",
       "  }\n",
       "  table, th, td {\n",
       "    border: 1px solid black;\n",
       "    border-collapse: collapse;\n",
       "  }\n",
       "  th, td {\n",
       "    padding: 5px;\n",
       "  }\n",
       "  th {\n",
       "    text-align: left;\n",
       "  }\n",
       "</style><div class='table-result-container'><table class='table-result'><thead style='background-color: white'><tr><th>municipio</th><th>casos</th></tr></thead><tbody><tr><td>Bogotá D.C. (CT)</td><td>30963</td></tr><tr><td>Cali (CT)</td><td>4374</td></tr><tr><td>Medellín (CT)</td><td>4262</td></tr><tr><td>Barranquilla (CT)</td><td>2671</td></tr><tr><td>Cartagena (CT)</td><td>1728</td></tr><tr><td>Pasto (CT)</td><td>1419</td></tr><tr><td>Bucaramanga (CT)</td><td>1306</td></tr><tr><td>Villavicencio (CT)</td><td>1232</td></tr><tr><td>Soacha</td><td>1132</td></tr><tr><td>Santa Marta (CT)</td><td>1056</td></tr></tbody></table></div>"
      ]
     },
     "metadata": {
      "application/vnd.databricks.v1+output": {
       "addedWidgets": {},
       "aggData": [],
       "aggError": "",
       "aggOverflow": false,
       "aggSchema": [],
       "aggSeriesLimitReached": false,
       "aggType": "",
       "arguments": {},
       "columnCustomDisplayInfos": {},
       "data": [
        [
         "Bogotá D.C. (CT)",
         30963
        ],
        [
         "Cali (CT)",
         4374
        ],
        [
         "Medellín (CT)",
         4262
        ],
        [
         "Barranquilla (CT)",
         2671
        ],
        [
         "Cartagena (CT)",
         1728
        ],
        [
         "Pasto (CT)",
         1419
        ],
        [
         "Bucaramanga (CT)",
         1306
        ],
        [
         "Villavicencio (CT)",
         1232
        ],
        [
         "Soacha",
         1132
        ],
        [
         "Santa Marta (CT)",
         1056
        ]
       ],
       "datasetInfos": [],
       "dbfsResultPath": null,
       "isJsonSchema": true,
       "metadata": {
        "dataframeName": "_sqldf",
        "executionCount": 13
       },
       "overflow": false,
       "plotOptions": {
        "customPlotOptions": {},
        "displayType": "table",
        "pivotAggregation": null,
        "pivotColumns": null,
        "xColumns": null,
        "yColumns": null
       },
       "removedWidgets": [],
       "schema": [
        {
         "metadata": "{}",
         "name": "municipio",
         "type": "\"string\""
        },
        {
         "metadata": "{}",
         "name": "casos",
         "type": "\"long\""
        }
       ],
       "type": "table"
      }
     },
     "output_type": "display_data"
    }
   ],
   "source": [
    "# vemos la cantidad de casos por municipio (top 10)\n",
    "%sql\n",
    "SELECT municipio, COUNT(*) AS casos\n",
    "FROM hurto\n",
    "GROUP BY municipio\n",
    "ORDER BY casos DESC\n",
    "LIMIT 10;"
   ]
  },
  {
   "cell_type": "code",
   "execution_count": 0,
   "metadata": {
    "application/vnd.databricks.v1+cell": {
     "cellMetadata": {
      "byteLimit": 2048000,
      "implicitDf": true,
      "rowLimit": 10000
     },
     "inputWidgets": {},
     "nuid": "56d0d873-62ea-4397-b4fe-d18b2aa6869d",
     "showTitle": false,
     "tableResultSettingsMap": {},
     "title": ""
    }
   },
   "outputs": [
    {
     "data": {
      "text/html": [
       "<style scoped>\n",
       "  .table-result-container {\n",
       "    max-height: 300px;\n",
       "    overflow: auto;\n",
       "  }\n",
       "  table, th, td {\n",
       "    border: 1px solid black;\n",
       "    border-collapse: collapse;\n",
       "  }\n",
       "  th, td {\n",
       "    padding: 5px;\n",
       "  }\n",
       "  th {\n",
       "    text-align: left;\n",
       "  }\n",
       "</style><div class='table-result-container'><table class='table-result'><thead style='background-color: white'><tr><th>mes</th><th>casos</th></tr></thead><tbody><tr><td>2025-01</td><td>22999</td></tr><tr><td>2025-02</td><td>22200</td></tr><tr><td>2025-03</td><td>23844</td></tr></tbody></table></div>"
      ]
     },
     "metadata": {
      "application/vnd.databricks.v1+output": {
       "addedWidgets": {},
       "aggData": [],
       "aggError": "",
       "aggOverflow": false,
       "aggSchema": [],
       "aggSeriesLimitReached": false,
       "aggType": "",
       "arguments": {},
       "columnCustomDisplayInfos": {},
       "data": [
        [
         "2025-01",
         22999
        ],
        [
         "2025-02",
         22200
        ],
        [
         "2025-03",
         23844
        ]
       ],
       "datasetInfos": [],
       "dbfsResultPath": null,
       "isJsonSchema": true,
       "metadata": {
        "dataframeName": "_sqldf",
        "executionCount": 15
       },
       "overflow": false,
       "plotOptions": {
        "customPlotOptions": {},
        "displayType": "table",
        "pivotAggregation": null,
        "pivotColumns": null,
        "xColumns": null,
        "yColumns": null
       },
       "removedWidgets": [],
       "schema": [
        {
         "metadata": "{}",
         "name": "mes",
         "type": "\"string\""
        },
        {
         "metadata": "{}",
         "name": "casos",
         "type": "\"long\""
        }
       ],
       "type": "table"
      }
     },
     "output_type": "display_data"
    }
   ],
   "source": [
    "# visualizamos la cantidad de casos por mes (Como el dataset es del 2025 tiene pocos meses)\n",
    "%sql\n",
    "-- Serie mensual 2024-2025\n",
    "SELECT date_format(fecha_hecho,'yyyy-MM') AS mes,\n",
    "       SUM(cantidad)                       AS casos\n",
    "FROM hurto\n",
    "GROUP BY mes\n",
    "ORDER BY mes;"
   ]
  },
  {
   "cell_type": "code",
   "execution_count": 0,
   "metadata": {
    "application/vnd.databricks.v1+cell": {
     "cellMetadata": {
      "byteLimit": 2048000,
      "implicitDf": true,
      "rowLimit": 10000
     },
     "inputWidgets": {},
     "nuid": "3dc42aa3-18d3-4e1b-a67e-e1e9fd1fc0e5",
     "showTitle": false,
     "tableResultSettingsMap": {},
     "title": ""
    }
   },
   "outputs": [
    {
     "data": {
      "text/html": [
       "<style scoped>\n",
       "  .table-result-container {\n",
       "    max-height: 300px;\n",
       "    overflow: auto;\n",
       "  }\n",
       "  table, th, td {\n",
       "    border: 1px solid black;\n",
       "    border-collapse: collapse;\n",
       "  }\n",
       "  th, td {\n",
       "    padding: 5px;\n",
       "  }\n",
       "  th {\n",
       "    text-align: left;\n",
       "  }\n",
       "</style><div class='table-result-container'><table class='table-result'><thead style='background-color: white'><tr><th>anio</th><th>departamento</th><th>casos</th></tr></thead><tbody><tr><td>2025</td><td>CUNDINAMARCA</td><td>34391</td></tr><tr><td>2025</td><td>ANTIOQUIA</td><td>6340</td></tr><tr><td>2025</td><td>VALLE</td><td>5670</td></tr><tr><td>2025</td><td>ATLÁNTICO</td><td>3658</td></tr><tr><td>2025</td><td>SANTANDER</td><td>2175</td></tr><tr><td>2025</td><td>BOLÍVAR</td><td>2086</td></tr><tr><td>2025</td><td>NARIÑO</td><td>1929</td></tr><tr><td>2025</td><td>META</td><td>1556</td></tr><tr><td>2025</td><td>HUILA</td><td>1539</td></tr><tr><td>2025</td><td>TOLIMA</td><td>1323</td></tr><tr><td>2025</td><td>MAGDALENA</td><td>1313</td></tr><tr><td>2025</td><td>CAUCA</td><td>1131</td></tr><tr><td>2025</td><td>BOYACÁ</td><td>796</td></tr><tr><td>2025</td><td>CESAR</td><td>783</td></tr><tr><td>2025</td><td>NORTE DE SANTANDER</td><td>762</td></tr><tr><td>2025</td><td>RISARALDA</td><td>707</td></tr><tr><td>2025</td><td>CÓRDOBA</td><td>523</td></tr><tr><td>2025</td><td>QUINDÍO</td><td>495</td></tr><tr><td>2025</td><td>CASANARE</td><td>470</td></tr><tr><td>2025</td><td>CALDAS</td><td>320</td></tr><tr><td>2025</td><td>SUCRE</td><td>296</td></tr><tr><td>2025</td><td>GUAJIRA</td><td>257</td></tr><tr><td>2025</td><td>CAQUETÁ</td><td>230</td></tr><tr><td>2025</td><td>CHOCÓ</td><td>82</td></tr><tr><td>2025</td><td>PUTUMAYO</td><td>71</td></tr><tr><td>2025</td><td>SAN ANDRÉS</td><td>46</td></tr><tr><td>2025</td><td>ARAUCA</td><td>31</td></tr><tr><td>2025</td><td>GUAVIARE</td><td>31</td></tr><tr><td>2025</td><td>AMAZONAS</td><td>15</td></tr><tr><td>2025</td><td>VICHADA</td><td>8</td></tr><tr><td>2025</td><td>GUAINÍA</td><td>5</td></tr><tr><td>2025</td><td>VAUPÉS</td><td>4</td></tr></tbody></table></div>"
      ]
     },
     "metadata": {
      "application/vnd.databricks.v1+output": {
       "addedWidgets": {},
       "aggData": [],
       "aggError": "",
       "aggOverflow": false,
       "aggSchema": [],
       "aggSeriesLimitReached": false,
       "aggType": "",
       "arguments": {},
       "columnCustomDisplayInfos": {},
       "data": [
        [
         2025,
         "CUNDINAMARCA",
         34391
        ],
        [
         2025,
         "ANTIOQUIA",
         6340
        ],
        [
         2025,
         "VALLE",
         5670
        ],
        [
         2025,
         "ATLÁNTICO",
         3658
        ],
        [
         2025,
         "SANTANDER",
         2175
        ],
        [
         2025,
         "BOLÍVAR",
         2086
        ],
        [
         2025,
         "NARIÑO",
         1929
        ],
        [
         2025,
         "META",
         1556
        ],
        [
         2025,
         "HUILA",
         1539
        ],
        [
         2025,
         "TOLIMA",
         1323
        ],
        [
         2025,
         "MAGDALENA",
         1313
        ],
        [
         2025,
         "CAUCA",
         1131
        ],
        [
         2025,
         "BOYACÁ",
         796
        ],
        [
         2025,
         "CESAR",
         783
        ],
        [
         2025,
         "NORTE DE SANTANDER",
         762
        ],
        [
         2025,
         "RISARALDA",
         707
        ],
        [
         2025,
         "CÓRDOBA",
         523
        ],
        [
         2025,
         "QUINDÍO",
         495
        ],
        [
         2025,
         "CASANARE",
         470
        ],
        [
         2025,
         "CALDAS",
         320
        ],
        [
         2025,
         "SUCRE",
         296
        ],
        [
         2025,
         "GUAJIRA",
         257
        ],
        [
         2025,
         "CAQUETÁ",
         230
        ],
        [
         2025,
         "CHOCÓ",
         82
        ],
        [
         2025,
         "PUTUMAYO",
         71
        ],
        [
         2025,
         "SAN ANDRÉS",
         46
        ],
        [
         2025,
         "ARAUCA",
         31
        ],
        [
         2025,
         "GUAVIARE",
         31
        ],
        [
         2025,
         "AMAZONAS",
         15
        ],
        [
         2025,
         "VICHADA",
         8
        ],
        [
         2025,
         "GUAINÍA",
         5
        ],
        [
         2025,
         "VAUPÉS",
         4
        ]
       ],
       "datasetInfos": [],
       "dbfsResultPath": null,
       "isJsonSchema": true,
       "metadata": {
        "dataframeName": "_sqldf",
        "executionCount": 16
       },
       "overflow": false,
       "plotOptions": {
        "customPlotOptions": {},
        "displayType": "table",
        "pivotAggregation": null,
        "pivotColumns": null,
        "xColumns": null,
        "yColumns": null
       },
       "removedWidgets": [],
       "schema": [
        {
         "metadata": "{}",
         "name": "anio",
         "type": "\"integer\""
        },
        {
         "metadata": "{}",
         "name": "departamento",
         "type": "\"string\""
        },
        {
         "metadata": "{}",
         "name": "casos",
         "type": "\"long\""
        }
       ],
       "type": "table"
      }
     },
     "output_type": "display_data"
    }
   ],
   "source": [
    "# vemos la cantidad de casos por departamento \n",
    "%sql\n",
    "-- Por departamento\n",
    "WITH tmp AS (\n",
    "  SELECT year(fecha_hecho)  AS anio,\n",
    "         departamento,\n",
    "         COUNT(*)           AS casos\n",
    "  FROM hurto\n",
    "  GROUP BY anio, departamento\n",
    ")\n",
    "SELECT * FROM tmp\n",
    "ORDER BY anio, casos DESC;"
   ]
  },
  {
   "cell_type": "code",
   "execution_count": 0,
   "metadata": {
    "application/vnd.databricks.v1+cell": {
     "cellMetadata": {
      "byteLimit": 2048000,
      "rowLimit": 10000
     },
     "inputWidgets": {},
     "nuid": "0ebdb234-22cd-41f8-90ef-f96d78674692",
     "showTitle": false,
     "tableResultSettingsMap": {},
     "title": ""
    }
   },
   "outputs": [
    {
     "data": {
      "text/html": [
       "<style scoped>\n",
       "  .table-result-container {\n",
       "    max-height: 300px;\n",
       "    overflow: auto;\n",
       "  }\n",
       "  table, th, td {\n",
       "    border: 1px solid black;\n",
       "    border-collapse: collapse;\n",
       "  }\n",
       "  th, td {\n",
       "    padding: 5px;\n",
       "  }\n",
       "  th {\n",
       "    text-align: left;\n",
       "  }\n",
       "</style><div class='table-result-container'><table class='table-result'><thead style='background-color: white'><tr><th>mes</th><th>ARMA BLANCA / CORTOPUNZANTE</th><th>ARMA DE FUEGO</th><th>CONTUNDENTES</th><th>ESCOPOLAMINA</th><th>LLAVE MAESTRA</th><th>NO REPORTADO</th><th>SIN EMPLEO DE ARMAS</th></tr></thead><tbody><tr><td>1</td><td>3459</td><td>3749</td><td>726</td><td>119</td><td>3</td><td>781</td><td>14162</td></tr><tr><td>2</td><td>3521</td><td>3200</td><td>599</td><td>138</td><td>null</td><td>777</td><td>13965</td></tr><tr><td>3</td><td>3773</td><td>3458</td><td>581</td><td>117</td><td>4</td><td>881</td><td>15030</td></tr></tbody></table></div>"
      ]
     },
     "metadata": {
      "application/vnd.databricks.v1+output": {
       "addedWidgets": {},
       "aggData": [],
       "aggError": "",
       "aggOverflow": false,
       "aggSchema": [],
       "aggSeriesLimitReached": false,
       "aggType": "",
       "arguments": {},
       "columnCustomDisplayInfos": {},
       "data": [
        [
         1,
         3459,
         3749,
         726,
         119,
         3,
         781,
         14162
        ],
        [
         2,
         3521,
         3200,
         599,
         138,
         null,
         777,
         13965
        ],
        [
         3,
         3773,
         3458,
         581,
         117,
         4,
         881,
         15030
        ]
       ],
       "datasetInfos": [],
       "dbfsResultPath": null,
       "isJsonSchema": true,
       "metadata": {},
       "overflow": false,
       "plotOptions": {
        "customPlotOptions": {},
        "displayType": "table",
        "pivotAggregation": null,
        "pivotColumns": null,
        "xColumns": null,
        "yColumns": null
       },
       "removedWidgets": [],
       "schema": [
        {
         "metadata": "{}",
         "name": "mes",
         "type": "\"integer\""
        },
        {
         "metadata": "{}",
         "name": "ARMA BLANCA / CORTOPUNZANTE",
         "type": "\"long\""
        },
        {
         "metadata": "{}",
         "name": "ARMA DE FUEGO",
         "type": "\"long\""
        },
        {
         "metadata": "{}",
         "name": "CONTUNDENTES",
         "type": "\"long\""
        },
        {
         "metadata": "{}",
         "name": "ESCOPOLAMINA",
         "type": "\"long\""
        },
        {
         "metadata": "{}",
         "name": "LLAVE MAESTRA",
         "type": "\"long\""
        },
        {
         "metadata": "{}",
         "name": "NO REPORTADO",
         "type": "\"long\""
        },
        {
         "metadata": "{}",
         "name": "SIN EMPLEO DE ARMAS",
         "type": "\"long\""
        }
       ],
       "type": "table"
      }
     },
     "output_type": "display_data"
    }
   ],
   "source": [
    "# Creamos un pivot para ver la cantidad de casos por mes y por armas_medios\n",
    "# (armas_medios es una columna que tiene el tipo de arma o medio usado en el hurto)\n",
    "pivot = (df.withColumn(\"mes\", month(\"fecha_hecho\"))\n",
    "           .groupBy(\"mes\")\n",
    "           .pivot(\"armas_medios\")\n",
    "           .count()\n",
    "           .orderBy(\"mes\"))\n",
    "\n",
    "display(pivot)"
   ]
  },
  {
   "cell_type": "markdown",
   "metadata": {
    "application/vnd.databricks.v1+cell": {
     "cellMetadata": {},
     "inputWidgets": {},
     "nuid": "a3acc9c6-e0de-4851-9eac-5842c646c533",
     "showTitle": false,
     "tableResultSettingsMap": {},
     "title": ""
    }
   },
   "source": [
    "# Modelo\n",
    "Vamos a predecir con que arma se realizara un determinado robo"
   ]
  },
  {
   "cell_type": "code",
   "execution_count": 0,
   "metadata": {
    "application/vnd.databricks.v1+cell": {
     "cellMetadata": {
      "byteLimit": 2048000,
      "rowLimit": 10000
     },
     "inputWidgets": {},
     "nuid": "6e73d2f1-e828-4732-a5d0-e19b47c7e4cf",
     "showTitle": false,
     "tableResultSettingsMap": {},
     "title": ""
    }
   },
   "outputs": [],
   "source": [
    "# Importamos las librerias necesarias para el modelo\n",
    "from pyspark.sql.functions import year, month\n",
    "from pyspark.ml import Pipeline\n",
    "from pyspark.ml.feature import (\n",
    "    StringIndexer, OneHotEncoder, VectorAssembler)\n",
    "from pyspark.ml.classification import RandomForestClassifier\n",
    "from pyspark.ml.evaluation import MulticlassClassificationEvaluator\n",
    "from pyspark.ml.feature import IndexToString"
   ]
  },
  {
   "cell_type": "code",
   "execution_count": 0,
   "metadata": {
    "application/vnd.databricks.v1+cell": {
     "cellMetadata": {
      "byteLimit": 2048000,
      "rowLimit": 10000
     },
     "inputWidgets": {},
     "nuid": "02617878-1e3e-49da-b6a5-49c0511564dd",
     "showTitle": false,
     "tableResultSettingsMap": {},
     "title": ""
    }
   },
   "outputs": [
    {
     "name": "stdout",
     "output_type": "stream",
     "text": [
      "root\n",
      " |-- armas_medios: string (nullable = true)\n",
      " |-- departamento: string (nullable = true)\n",
      " |-- municipio: string (nullable = true)\n",
      " |-- fecha_hecho: date (nullable = true)\n",
      " |-- genero: string (nullable = true)\n",
      " |-- agrupa_edad_persona: string (nullable = true)\n",
      " |-- codigo_dane: integer (nullable = true)\n",
      " |-- cantidad: integer (nullable = true)\n",
      "\n"
     ]
    }
   ],
   "source": [
    "# Renombramos la columna \"agrupa_edad_persona\" a \"grupo_edad\"\n",
    "# y creamos una lista de columnas categoricas\n",
    "# (las columnas categoricas son las que tienen el tipo de dato string)\n",
    "df = spark.table(\"hurto\")       \n",
    "df.printSchema()\n",
    "df = df.withColumnRenamed(\"agrupa_edad_persona\", \"grupo_edad\")\n",
    "categoricas = [\"departamento\", \"municipio\", \"genero\", \"grupo_edad\"]"
   ]
  },
  {
   "cell_type": "code",
   "execution_count": 0,
   "metadata": {
    "application/vnd.databricks.v1+cell": {
     "cellMetadata": {
      "byteLimit": 2048000,
      "rowLimit": 10000
     },
     "inputWidgets": {},
     "nuid": "27c383af-0db7-4ed2-8968-cbcb0b09a56d",
     "showTitle": false,
     "tableResultSettingsMap": {},
     "title": ""
    }
   },
   "outputs": [],
   "source": [
    "# Las columnas que vamos a usar para el modelo\n",
    "target       = \"armas_medios\"\n",
    "categoricas  = [\"departamento\",\"municipio\",\"genero\",\"grupo_edad\"]\n",
    "numericas    = [\"cantidad\",\"anio\",\"mes\"]\n",
    "\n",
    "df_rf = (df.withColumn(\"anio\",  year(\"fecha_hecho\"))\n",
    "           .withColumn(\"mes\",   month(\"fecha_hecho\")))\n",
    "\n",
    "# agregamos indices a cada variable categorica 1,2,3... etc\n",
    "indexers = [\n",
    "    StringIndexer(inputCol=c,\n",
    "                  outputCol=f\"{c}_idx\",\n",
    "                  handleInvalid=\"keep\")\n",
    "    for c in categoricas\n",
    "]\n",
    "\n",
    "# Usamos onehotencoder para las columnas categoricas\n",
    "encoders = [\n",
    "    OneHotEncoder(inputCol=f\"{c}_idx\",\n",
    "                  outputCol=f\"{c}_vec\")\n",
    "    for c in categoricas\n",
    "]\n",
    "\n",
    "# Juntamos todo en 1 solo vector\n",
    "assembler = VectorAssembler(\n",
    "    inputCols=[f\"{c}_vec\" for c in categoricas] + numericas,\n",
    "    outputCol=\"features\"\n",
    ")\n",
    "\n",
    "label_idx = StringIndexer(inputCol=target,\n",
    "                          outputCol=\"label\",\n",
    "                          handleInvalid=\"keep\")\n",
    "\n",
    "# Modelo\n",
    "rf = RandomForestClassifier(\n",
    "        labelCol=\"label\",\n",
    "        featuresCol=\"features\",\n",
    "        numTrees=80,\n",
    "        maxDepth=12,\n",
    "        seed=42\n",
    ")\n",
    "\n",
    "pipeline = Pipeline(stages=indexers + encoders +\n",
    "                    [assembler, label_idx, rf])"
   ]
  },
  {
   "cell_type": "code",
   "execution_count": 0,
   "metadata": {
    "application/vnd.databricks.v1+cell": {
     "cellMetadata": {
      "byteLimit": 2048000,
      "rowLimit": 10000
     },
     "inputWidgets": {},
     "nuid": "6c7310ec-86bc-4dc7-9b77-4377a35e22b3",
     "showTitle": false,
     "tableResultSettingsMap": {},
     "title": ""
    }
   },
   "outputs": [
    {
     "name": "stdout",
     "output_type": "stream",
     "text": [
      "['armas_medios', 'departamento', 'municipio', 'fecha_hecho', 'genero', 'grupo_edad', 'codigo_dane', 'cantidad', 'anio', 'mes']\n"
     ]
    }
   ],
   "source": [
    "print(df_rf.columns)"
   ]
  },
  {
   "cell_type": "code",
   "execution_count": 0,
   "metadata": {
    "application/vnd.databricks.v1+cell": {
     "cellMetadata": {
      "byteLimit": 2048000,
      "rowLimit": 10000
     },
     "inputWidgets": {},
     "nuid": "5c37d961-1421-4a81-8206-e70bab4aab0f",
     "showTitle": false,
     "tableResultSettingsMap": {},
     "title": ""
    }
   },
   "outputs": [
    {
     "name": "stdout",
     "output_type": "stream",
     "text": [
      "Accuracy: 62.427%\n"
     ]
    }
   ],
   "source": [
    "# Entrenamos el modelo y hacemos un split de los datos\n",
    "# (80% para entrenamiento y 20% para test)\n",
    "train, test = df_rf.randomSplit([0.8, 0.2], seed=42)\n",
    "model = pipeline.fit(train)\n",
    "pred  = model.transform(test)\n",
    "\n",
    "evaluator = MulticlassClassificationEvaluator(\n",
    "               labelCol=\"label\",\n",
    "               predictionCol=\"prediction\",\n",
    "               metricName=\"accuracy\")\n",
    "\n",
    "accuracy = evaluator.evaluate(pred)\n",
    "print(f\"Accuracy: {accuracy:.3%}\")"
   ]
  },
  {
   "cell_type": "code",
   "execution_count": 0,
   "metadata": {
    "application/vnd.databricks.v1+cell": {
     "cellMetadata": {
      "byteLimit": 2048000,
      "rowLimit": 10000
     },
     "inputWidgets": {},
     "nuid": "c855ce5d-2c03-42f6-9a27-b75d3cafc146",
     "showTitle": false,
     "tableResultSettingsMap": {},
     "title": ""
    }
   },
   "outputs": [],
   "source": [
    "# Aqui convertimos el label a su nombre original\n",
    "# (en vez de 0,1,2... etc a \"arma blanca\", \"arma de fuego\", \"sin armas\")\n",
    "# (esto es para que sea más entendible)\n",
    "label_indexer = model.stages[-2]           \n",
    "converter = IndexToString(\n",
    "              inputCol=\"prediction\",\n",
    "              outputCol=\"pred_armas_medios\",\n",
    "              labels=label_indexer.labels)\n",
    "\n",
    "pred_human = converter.transform(pred)"
   ]
  },
  {
   "cell_type": "code",
   "execution_count": 0,
   "metadata": {
    "application/vnd.databricks.v1+cell": {
     "cellMetadata": {
      "byteLimit": 2048000,
      "rowLimit": 10000
     },
     "inputWidgets": {},
     "nuid": "f5d2a329-17d2-456c-913d-f18098c78e62",
     "showTitle": false,
     "tableResultSettingsMap": {},
     "title": ""
    }
   },
   "outputs": [
    {
     "data": {
      "text/html": [
       "<style scoped>\n",
       "  .table-result-container {\n",
       "    max-height: 300px;\n",
       "    overflow: auto;\n",
       "  }\n",
       "  table, th, td {\n",
       "    border: 1px solid black;\n",
       "    border-collapse: collapse;\n",
       "  }\n",
       "  th, td {\n",
       "    padding: 5px;\n",
       "  }\n",
       "  th {\n",
       "    text-align: left;\n",
       "  }\n",
       "</style><div class='table-result-container'><table class='table-result'><thead style='background-color: white'><tr><th>departamento</th><th>municipio</th><th>fecha_hecho</th><th>genero</th><th>grupo_edad</th><th>armas_medios</th><th>pred_armas_medios</th></tr></thead><tbody><tr><td>AMAZONAS</td><td>Leticia (CT)</td><td>2025-03-29</td><td>MASCULINO</td><td>ADULTOS</td><td>ARMA BLANCA / CORTOPUNZANTE</td><td>SIN EMPLEO DE ARMAS</td></tr><tr><td>ANTIOQUIA</td><td>Apartadó</td><td>2025-01-11</td><td>MASCULINO</td><td>ADULTOS</td><td>ARMA BLANCA / CORTOPUNZANTE</td><td>SIN EMPLEO DE ARMAS</td></tr><tr><td>ANTIOQUIA</td><td>Apartadó</td><td>2025-03-10</td><td>MASCULINO</td><td>ADULTOS</td><td>ARMA BLANCA / CORTOPUNZANTE</td><td>SIN EMPLEO DE ARMAS</td></tr><tr><td>ANTIOQUIA</td><td>Bello</td><td>2025-01-02</td><td>MASCULINO</td><td>ADULTOS</td><td>ARMA BLANCA / CORTOPUNZANTE</td><td>SIN EMPLEO DE ARMAS</td></tr><tr><td>ANTIOQUIA</td><td>Bello</td><td>2025-01-11</td><td>MASCULINO</td><td>ADULTOS</td><td>ARMA BLANCA / CORTOPUNZANTE</td><td>SIN EMPLEO DE ARMAS</td></tr><tr><td>ANTIOQUIA</td><td>Bello</td><td>2025-01-18</td><td>MASCULINO</td><td>ADULTOS</td><td>ARMA BLANCA / CORTOPUNZANTE</td><td>SIN EMPLEO DE ARMAS</td></tr><tr><td>ANTIOQUIA</td><td>Bello</td><td>2025-02-06</td><td>MASCULINO</td><td>ADULTOS</td><td>ARMA BLANCA / CORTOPUNZANTE</td><td>SIN EMPLEO DE ARMAS</td></tr><tr><td>ANTIOQUIA</td><td>Bello</td><td>2025-02-16</td><td>MASCULINO</td><td>ADULTOS</td><td>ARMA BLANCA / CORTOPUNZANTE</td><td>SIN EMPLEO DE ARMAS</td></tr><tr><td>ANTIOQUIA</td><td>Bello</td><td>2025-02-24</td><td>MASCULINO</td><td>ADULTOS</td><td>ARMA BLANCA / CORTOPUNZANTE</td><td>SIN EMPLEO DE ARMAS</td></tr><tr><td>ANTIOQUIA</td><td>Bello</td><td>2025-02-26</td><td>FEMENINO</td><td>ADULTOS</td><td>ARMA BLANCA / CORTOPUNZANTE</td><td>SIN EMPLEO DE ARMAS</td></tr><tr><td>ANTIOQUIA</td><td>Bello</td><td>2025-02-27</td><td>MASCULINO</td><td>ADULTOS</td><td>ARMA BLANCA / CORTOPUNZANTE</td><td>SIN EMPLEO DE ARMAS</td></tr><tr><td>ANTIOQUIA</td><td>Bello</td><td>2025-03-07</td><td>FEMENINO</td><td>ADULTOS</td><td>ARMA BLANCA / CORTOPUNZANTE</td><td>SIN EMPLEO DE ARMAS</td></tr><tr><td>ANTIOQUIA</td><td>Bello</td><td>2025-03-08</td><td>MASCULINO</td><td>ADULTOS</td><td>ARMA BLANCA / CORTOPUNZANTE</td><td>SIN EMPLEO DE ARMAS</td></tr><tr><td>ANTIOQUIA</td><td>Bello</td><td>2025-03-18</td><td>MASCULINO</td><td>ADULTOS</td><td>ARMA BLANCA / CORTOPUNZANTE</td><td>SIN EMPLEO DE ARMAS</td></tr><tr><td>ANTIOQUIA</td><td>Caicedo</td><td>2025-03-12</td><td>MASCULINO</td><td>ADULTOS</td><td>ARMA BLANCA / CORTOPUNZANTE</td><td>SIN EMPLEO DE ARMAS</td></tr><tr><td>ANTIOQUIA</td><td>Caucasia</td><td>2025-02-28</td><td>FEMENINO</td><td>ADULTOS</td><td>ARMA BLANCA / CORTOPUNZANTE</td><td>SIN EMPLEO DE ARMAS</td></tr><tr><td>ANTIOQUIA</td><td>Copacabana</td><td>2025-02-02</td><td>MASCULINO</td><td>ADULTOS</td><td>ARMA BLANCA / CORTOPUNZANTE</td><td>SIN EMPLEO DE ARMAS</td></tr><tr><td>ANTIOQUIA</td><td>Girardota</td><td>2025-03-27</td><td>FEMENINO</td><td>ADULTOS</td><td>ARMA BLANCA / CORTOPUNZANTE</td><td>SIN EMPLEO DE ARMAS</td></tr><tr><td>ANTIOQUIA</td><td>Itagui</td><td>2025-02-10</td><td>FEMENINO</td><td>ADULTOS</td><td>ARMA BLANCA / CORTOPUNZANTE</td><td>SIN EMPLEO DE ARMAS</td></tr><tr><td>ANTIOQUIA</td><td>Itagui</td><td>2025-02-13</td><td>MASCULINO</td><td>ADULTOS</td><td>ARMA BLANCA / CORTOPUNZANTE</td><td>SIN EMPLEO DE ARMAS</td></tr></tbody></table></div>"
      ]
     },
     "metadata": {
      "application/vnd.databricks.v1+output": {
       "addedWidgets": {},
       "aggData": [],
       "aggError": "",
       "aggOverflow": false,
       "aggSchema": [],
       "aggSeriesLimitReached": false,
       "aggType": "",
       "arguments": {},
       "columnCustomDisplayInfos": {},
       "data": [
        [
         "AMAZONAS",
         "Leticia (CT)",
         "2025-03-29",
         "MASCULINO",
         "ADULTOS",
         "ARMA BLANCA / CORTOPUNZANTE",
         "SIN EMPLEO DE ARMAS"
        ],
        [
         "ANTIOQUIA",
         "Apartadó",
         "2025-01-11",
         "MASCULINO",
         "ADULTOS",
         "ARMA BLANCA / CORTOPUNZANTE",
         "SIN EMPLEO DE ARMAS"
        ],
        [
         "ANTIOQUIA",
         "Apartadó",
         "2025-03-10",
         "MASCULINO",
         "ADULTOS",
         "ARMA BLANCA / CORTOPUNZANTE",
         "SIN EMPLEO DE ARMAS"
        ],
        [
         "ANTIOQUIA",
         "Bello",
         "2025-01-02",
         "MASCULINO",
         "ADULTOS",
         "ARMA BLANCA / CORTOPUNZANTE",
         "SIN EMPLEO DE ARMAS"
        ],
        [
         "ANTIOQUIA",
         "Bello",
         "2025-01-11",
         "MASCULINO",
         "ADULTOS",
         "ARMA BLANCA / CORTOPUNZANTE",
         "SIN EMPLEO DE ARMAS"
        ],
        [
         "ANTIOQUIA",
         "Bello",
         "2025-01-18",
         "MASCULINO",
         "ADULTOS",
         "ARMA BLANCA / CORTOPUNZANTE",
         "SIN EMPLEO DE ARMAS"
        ],
        [
         "ANTIOQUIA",
         "Bello",
         "2025-02-06",
         "MASCULINO",
         "ADULTOS",
         "ARMA BLANCA / CORTOPUNZANTE",
         "SIN EMPLEO DE ARMAS"
        ],
        [
         "ANTIOQUIA",
         "Bello",
         "2025-02-16",
         "MASCULINO",
         "ADULTOS",
         "ARMA BLANCA / CORTOPUNZANTE",
         "SIN EMPLEO DE ARMAS"
        ],
        [
         "ANTIOQUIA",
         "Bello",
         "2025-02-24",
         "MASCULINO",
         "ADULTOS",
         "ARMA BLANCA / CORTOPUNZANTE",
         "SIN EMPLEO DE ARMAS"
        ],
        [
         "ANTIOQUIA",
         "Bello",
         "2025-02-26",
         "FEMENINO",
         "ADULTOS",
         "ARMA BLANCA / CORTOPUNZANTE",
         "SIN EMPLEO DE ARMAS"
        ],
        [
         "ANTIOQUIA",
         "Bello",
         "2025-02-27",
         "MASCULINO",
         "ADULTOS",
         "ARMA BLANCA / CORTOPUNZANTE",
         "SIN EMPLEO DE ARMAS"
        ],
        [
         "ANTIOQUIA",
         "Bello",
         "2025-03-07",
         "FEMENINO",
         "ADULTOS",
         "ARMA BLANCA / CORTOPUNZANTE",
         "SIN EMPLEO DE ARMAS"
        ],
        [
         "ANTIOQUIA",
         "Bello",
         "2025-03-08",
         "MASCULINO",
         "ADULTOS",
         "ARMA BLANCA / CORTOPUNZANTE",
         "SIN EMPLEO DE ARMAS"
        ],
        [
         "ANTIOQUIA",
         "Bello",
         "2025-03-18",
         "MASCULINO",
         "ADULTOS",
         "ARMA BLANCA / CORTOPUNZANTE",
         "SIN EMPLEO DE ARMAS"
        ],
        [
         "ANTIOQUIA",
         "Caicedo",
         "2025-03-12",
         "MASCULINO",
         "ADULTOS",
         "ARMA BLANCA / CORTOPUNZANTE",
         "SIN EMPLEO DE ARMAS"
        ],
        [
         "ANTIOQUIA",
         "Caucasia",
         "2025-02-28",
         "FEMENINO",
         "ADULTOS",
         "ARMA BLANCA / CORTOPUNZANTE",
         "SIN EMPLEO DE ARMAS"
        ],
        [
         "ANTIOQUIA",
         "Copacabana",
         "2025-02-02",
         "MASCULINO",
         "ADULTOS",
         "ARMA BLANCA / CORTOPUNZANTE",
         "SIN EMPLEO DE ARMAS"
        ],
        [
         "ANTIOQUIA",
         "Girardota",
         "2025-03-27",
         "FEMENINO",
         "ADULTOS",
         "ARMA BLANCA / CORTOPUNZANTE",
         "SIN EMPLEO DE ARMAS"
        ],
        [
         "ANTIOQUIA",
         "Itagui",
         "2025-02-10",
         "FEMENINO",
         "ADULTOS",
         "ARMA BLANCA / CORTOPUNZANTE",
         "SIN EMPLEO DE ARMAS"
        ],
        [
         "ANTIOQUIA",
         "Itagui",
         "2025-02-13",
         "MASCULINO",
         "ADULTOS",
         "ARMA BLANCA / CORTOPUNZANTE",
         "SIN EMPLEO DE ARMAS"
        ]
       ],
       "datasetInfos": [],
       "dbfsResultPath": null,
       "isJsonSchema": true,
       "metadata": {},
       "overflow": false,
       "plotOptions": {
        "customPlotOptions": {},
        "displayType": "table",
        "pivotAggregation": null,
        "pivotColumns": null,
        "xColumns": null,
        "yColumns": null
       },
       "removedWidgets": [],
       "schema": [
        {
         "metadata": "{}",
         "name": "departamento",
         "type": "\"string\""
        },
        {
         "metadata": "{}",
         "name": "municipio",
         "type": "\"string\""
        },
        {
         "metadata": "{\"__detected_date_formats\":\"d/M/yyyy\"}",
         "name": "fecha_hecho",
         "type": "\"date\""
        },
        {
         "metadata": "{}",
         "name": "genero",
         "type": "\"string\""
        },
        {
         "metadata": "{}",
         "name": "grupo_edad",
         "type": "\"string\""
        },
        {
         "metadata": "{}",
         "name": "armas_medios",
         "type": "\"string\""
        },
        {
         "metadata": "{}",
         "name": "pred_armas_medios",
         "type": "\"string\""
        }
       ],
       "type": "table"
      }
     },
     "output_type": "display_data"
    }
   ],
   "source": [
    "# Limpiamos los nombres de las columnas\n",
    "cols = [\"departamento\",\"municipio\",\"fecha_hecho\",\n",
    "        \"genero\",\"grupo_edad\",\n",
    "        \"armas_medios\",      \n",
    "        \"pred_armas_medios\"]  \n",
    "\n",
    "display(pred_human.select(*cols).limit(20))"
   ]
  },
  {
   "cell_type": "code",
   "execution_count": 0,
   "metadata": {
    "application/vnd.databricks.v1+cell": {
     "cellMetadata": {
      "byteLimit": 2048000,
      "rowLimit": 10000
     },
     "inputWidgets": {},
     "nuid": "bfc80b79-6539-4767-b02c-7c6c08aedf17",
     "showTitle": false,
     "tableResultSettingsMap": {},
     "title": ""
    }
   },
   "outputs": [
    {
     "name": "stdout",
     "output_type": "stream",
     "text": [
      "+---------------------------+-------------------+-----+\n",
      "|armas_medios               |pred_armas_medios  |count|\n",
      "+---------------------------+-------------------+-----+\n",
      "|ARMA BLANCA / CORTOPUNZANTE|SIN EMPLEO DE ARMAS|2073 |\n",
      "|ARMA DE FUEGO              |SIN EMPLEO DE ARMAS|2105 |\n",
      "|CONTUNDENTES               |SIN EMPLEO DE ARMAS|390  |\n",
      "|ESCOPOLAMINA               |SIN EMPLEO DE ARMAS|104  |\n",
      "|LLAVE MAESTRA              |SIN EMPLEO DE ARMAS|2    |\n",
      "|NO REPORTADO               |SIN EMPLEO DE ARMAS|504  |\n",
      "|SIN EMPLEO DE ARMAS        |SIN EMPLEO DE ARMAS|8603 |\n",
      "+---------------------------+-------------------+-----+\n",
      "\n"
     ]
    }
   ],
   "source": [
    "# Creamos una tabla para ver la cantidad de casos por mes y por armas_medios\n",
    "(confusion := pred_human\n",
    "    .groupBy(\"armas_medios\",\"pred_armas_medios\")\n",
    "    .count()\n",
    "    .orderBy(\"armas_medios\",\"pred_armas_medios\")\n",
    ").show(truncate=False)"
   ]
  }
 ],
 "metadata": {
  "application/vnd.databricks.v1+notebook": {
   "computePreferences": null,
   "dashboards": [],
   "environmentMetadata": null,
   "inputWidgetPreferences": null,
   "language": "python",
   "notebookMetadata": {
    "mostRecentlyExecutedCommandWithImplicitDF": {
     "commandId": 610922964810516,
     "dataframes": [
      "_sqldf"
     ]
    },
    "pythonIndentUnit": 4
   },
   "notebookName": "2025-05-23 - DBFS Example",
   "widgets": {}
  },
  "kernelspec": {
   "display_name": "Python 3",
   "language": "python",
   "name": "python3"
  },
  "language_info": {
   "codemirror_mode": {
    "name": "ipython",
    "version": 3
   },
   "file_extension": ".py",
   "mimetype": "text/x-python",
   "name": "python",
   "nbconvert_exporter": "python",
   "pygments_lexer": "ipython3",
   "version": "3.12.0"
  }
 },
 "nbformat": 4,
 "nbformat_minor": 0
}
